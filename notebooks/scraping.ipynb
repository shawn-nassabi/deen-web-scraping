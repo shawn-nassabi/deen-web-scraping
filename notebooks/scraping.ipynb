{
 "cells": [
  {
   "cell_type": "markdown",
   "id": "473cef34",
   "metadata": {},
   "source": [
    "# Python notebook for webscraping"
   ]
  },
  {
   "cell_type": "markdown",
   "id": "a2be5502",
   "metadata": {},
   "source": []
  }
 ],
 "metadata": {
  "language_info": {
   "name": "python"
  }
 },
 "nbformat": 4,
 "nbformat_minor": 5
}
